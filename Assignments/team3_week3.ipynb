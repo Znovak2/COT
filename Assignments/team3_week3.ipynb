{
 "cells": [
  {
   "cell_type": "markdown",
   "id": "cf90e3f8",
   "metadata": {},
   "source": [
    "Team 3 Week 3 Assignment COT6481 CMB25Spring"
   ]
  },
  {
   "cell_type": "markdown",
   "id": "68c77693",
   "metadata": {},
   "source": [
    "Q1. Import Pandas as pd"
   ]
  },
  {
   "cell_type": "code",
   "execution_count": 35,
   "id": "880a701a",
   "metadata": {
    "ExecuteTime": {
     "end_time": "2025-01-29T23:47:19.252678Z",
     "start_time": "2025-01-29T23:47:19.249959Z"
    }
   },
   "outputs": [],
   "source": [
    "# import library\n",
    "import pandas as pd"
   ]
  },
  {
   "cell_type": "markdown",
   "id": "ebf7ab7a",
   "metadata": {},
   "source": [
    "Q2. Read Salaries.csv as a dataframe called df"
   ]
  },
  {
   "cell_type": "code",
   "execution_count": 36,
   "id": "0c4b250a",
   "metadata": {
    "ExecuteTime": {
     "end_time": "2025-01-29T23:47:19.522395Z",
     "start_time": "2025-01-29T23:47:19.274655Z"
    }
   },
   "outputs": [],
   "source": [
    "# read csv file, use low_memory so jupyter can handle the large file size without timing out\n",
    "df = pd.read_csv('Salaries.csv', low_memory=False)"
   ]
  },
  {
   "cell_type": "markdown",
   "id": "d15a7c72",
   "metadata": {},
   "source": [
    "Q3. Check the head of the DataFrame"
   ]
  },
  {
   "cell_type": "code",
   "execution_count": 37,
   "id": "610d57a6",
   "metadata": {
    "ExecuteTime": {
     "end_time": "2025-01-29T23:47:19.532884Z",
     "start_time": "2025-01-29T23:47:19.525400Z"
    }
   },
   "outputs": [
    {
     "data": {
      "text/html": [
       "<div>\n",
       "<style scoped>\n",
       "    .dataframe tbody tr th:only-of-type {\n",
       "        vertical-align: middle;\n",
       "    }\n",
       "\n",
       "    .dataframe tbody tr th {\n",
       "        vertical-align: top;\n",
       "    }\n",
       "\n",
       "    .dataframe thead th {\n",
       "        text-align: right;\n",
       "    }\n",
       "</style>\n",
       "<table border=\"1\" class=\"dataframe\">\n",
       "  <thead>\n",
       "    <tr style=\"text-align: right;\">\n",
       "      <th></th>\n",
       "      <th>Id</th>\n",
       "      <th>EmployeeName</th>\n",
       "      <th>JobTitle</th>\n",
       "      <th>BasePay</th>\n",
       "      <th>OvertimePay</th>\n",
       "      <th>OtherPay</th>\n",
       "      <th>Benefits</th>\n",
       "      <th>TotalPay</th>\n",
       "      <th>TotalPayBenefits</th>\n",
       "      <th>Year</th>\n",
       "      <th>Notes</th>\n",
       "      <th>Agency</th>\n",
       "      <th>Status</th>\n",
       "    </tr>\n",
       "  </thead>\n",
       "  <tbody>\n",
       "    <tr>\n",
       "      <th>0</th>\n",
       "      <td>1</td>\n",
       "      <td>NATHANIEL FORD</td>\n",
       "      <td>GENERAL MANAGER-METROPOLITAN TRANSIT AUTHORITY</td>\n",
       "      <td>167411.18</td>\n",
       "      <td>0.0</td>\n",
       "      <td>400184.25</td>\n",
       "      <td>NaN</td>\n",
       "      <td>567595.43</td>\n",
       "      <td>567595.43</td>\n",
       "      <td>2011</td>\n",
       "      <td>NaN</td>\n",
       "      <td>San Francisco</td>\n",
       "      <td>NaN</td>\n",
       "    </tr>\n",
       "    <tr>\n",
       "      <th>1</th>\n",
       "      <td>2</td>\n",
       "      <td>GARY JIMENEZ</td>\n",
       "      <td>CAPTAIN III (POLICE DEPARTMENT)</td>\n",
       "      <td>155966.02</td>\n",
       "      <td>245131.88</td>\n",
       "      <td>137811.38</td>\n",
       "      <td>NaN</td>\n",
       "      <td>538909.28</td>\n",
       "      <td>538909.28</td>\n",
       "      <td>2011</td>\n",
       "      <td>NaN</td>\n",
       "      <td>San Francisco</td>\n",
       "      <td>NaN</td>\n",
       "    </tr>\n",
       "    <tr>\n",
       "      <th>2</th>\n",
       "      <td>3</td>\n",
       "      <td>ALBERT PARDINI</td>\n",
       "      <td>CAPTAIN III (POLICE DEPARTMENT)</td>\n",
       "      <td>212739.13</td>\n",
       "      <td>106088.18</td>\n",
       "      <td>16452.6</td>\n",
       "      <td>NaN</td>\n",
       "      <td>335279.91</td>\n",
       "      <td>335279.91</td>\n",
       "      <td>2011</td>\n",
       "      <td>NaN</td>\n",
       "      <td>San Francisco</td>\n",
       "      <td>NaN</td>\n",
       "    </tr>\n",
       "    <tr>\n",
       "      <th>3</th>\n",
       "      <td>4</td>\n",
       "      <td>CHRISTOPHER CHONG</td>\n",
       "      <td>WIRE ROPE CABLE MAINTENANCE MECHANIC</td>\n",
       "      <td>77916.0</td>\n",
       "      <td>56120.71</td>\n",
       "      <td>198306.9</td>\n",
       "      <td>NaN</td>\n",
       "      <td>332343.61</td>\n",
       "      <td>332343.61</td>\n",
       "      <td>2011</td>\n",
       "      <td>NaN</td>\n",
       "      <td>San Francisco</td>\n",
       "      <td>NaN</td>\n",
       "    </tr>\n",
       "    <tr>\n",
       "      <th>4</th>\n",
       "      <td>5</td>\n",
       "      <td>PATRICK GARDNER</td>\n",
       "      <td>DEPUTY CHIEF OF DEPARTMENT,(FIRE DEPARTMENT)</td>\n",
       "      <td>134401.6</td>\n",
       "      <td>9737.0</td>\n",
       "      <td>182234.59</td>\n",
       "      <td>NaN</td>\n",
       "      <td>326373.19</td>\n",
       "      <td>326373.19</td>\n",
       "      <td>2011</td>\n",
       "      <td>NaN</td>\n",
       "      <td>San Francisco</td>\n",
       "      <td>NaN</td>\n",
       "    </tr>\n",
       "  </tbody>\n",
       "</table>\n",
       "</div>"
      ],
      "text/plain": [
       "   Id       EmployeeName                                        JobTitle  \\\n",
       "0   1     NATHANIEL FORD  GENERAL MANAGER-METROPOLITAN TRANSIT AUTHORITY   \n",
       "1   2       GARY JIMENEZ                 CAPTAIN III (POLICE DEPARTMENT)   \n",
       "2   3     ALBERT PARDINI                 CAPTAIN III (POLICE DEPARTMENT)   \n",
       "3   4  CHRISTOPHER CHONG            WIRE ROPE CABLE MAINTENANCE MECHANIC   \n",
       "4   5    PATRICK GARDNER    DEPUTY CHIEF OF DEPARTMENT,(FIRE DEPARTMENT)   \n",
       "\n",
       "     BasePay OvertimePay   OtherPay Benefits   TotalPay  TotalPayBenefits  \\\n",
       "0  167411.18         0.0  400184.25      NaN  567595.43         567595.43   \n",
       "1  155966.02   245131.88  137811.38      NaN  538909.28         538909.28   \n",
       "2  212739.13   106088.18    16452.6      NaN  335279.91         335279.91   \n",
       "3    77916.0    56120.71   198306.9      NaN  332343.61         332343.61   \n",
       "4   134401.6      9737.0  182234.59      NaN  326373.19         326373.19   \n",
       "\n",
       "   Year  Notes         Agency Status  \n",
       "0  2011    NaN  San Francisco    NaN  \n",
       "1  2011    NaN  San Francisco    NaN  \n",
       "2  2011    NaN  San Francisco    NaN  \n",
       "3  2011    NaN  San Francisco    NaN  \n",
       "4  2011    NaN  San Francisco    NaN  "
      ]
     },
     "execution_count": 37,
     "metadata": {},
     "output_type": "execute_result"
    }
   ],
   "source": [
    "# display the head of the dataframe\n",
    "df.head()"
   ]
  },
  {
   "cell_type": "markdown",
   "id": "87a869af",
   "metadata": {},
   "source": [
    "Q4. Use one of the pandas methods to find out how many entries there are."
   ]
  },
  {
   "cell_type": "code",
   "execution_count": 38,
   "id": "3ab2cb88",
   "metadata": {
    "ExecuteTime": {
     "end_time": "2025-01-29T23:47:19.570657Z",
     "start_time": "2025-01-29T23:47:19.562945Z"
    }
   },
   "outputs": [
    {
     "data": {
      "text/plain": [
       "<bound method DataFrame.info of             Id       EmployeeName  \\\n",
       "0            1     NATHANIEL FORD   \n",
       "1            2       GARY JIMENEZ   \n",
       "2            3     ALBERT PARDINI   \n",
       "3            4  CHRISTOPHER CHONG   \n",
       "4            5    PATRICK GARDNER   \n",
       "...        ...                ...   \n",
       "148649  148650      Roy I Tillery   \n",
       "148650  148651       Not provided   \n",
       "148651  148652       Not provided   \n",
       "148652  148653       Not provided   \n",
       "148653  148654          Joe Lopez   \n",
       "\n",
       "                                              JobTitle       BasePay  \\\n",
       "0       GENERAL MANAGER-METROPOLITAN TRANSIT AUTHORITY     167411.18   \n",
       "1                      CAPTAIN III (POLICE DEPARTMENT)     155966.02   \n",
       "2                      CAPTAIN III (POLICE DEPARTMENT)     212739.13   \n",
       "3                 WIRE ROPE CABLE MAINTENANCE MECHANIC       77916.0   \n",
       "4         DEPUTY CHIEF OF DEPARTMENT,(FIRE DEPARTMENT)      134401.6   \n",
       "...                                                ...           ...   \n",
       "148649                                       Custodian          0.00   \n",
       "148650                                    Not provided  Not Provided   \n",
       "148651                                    Not provided  Not Provided   \n",
       "148652                                    Not provided  Not Provided   \n",
       "148653                      Counselor, Log Cabin Ranch          0.00   \n",
       "\n",
       "         OvertimePay      OtherPay      Benefits   TotalPay  TotalPayBenefits  \\\n",
       "0                0.0     400184.25           NaN  567595.43         567595.43   \n",
       "1          245131.88     137811.38           NaN  538909.28         538909.28   \n",
       "2          106088.18       16452.6           NaN  335279.91         335279.91   \n",
       "3           56120.71      198306.9           NaN  332343.61         332343.61   \n",
       "4             9737.0     182234.59           NaN  326373.19         326373.19   \n",
       "...              ...           ...           ...        ...               ...   \n",
       "148649          0.00          0.00          0.00       0.00              0.00   \n",
       "148650  Not Provided  Not Provided  Not Provided       0.00              0.00   \n",
       "148651  Not Provided  Not Provided  Not Provided       0.00              0.00   \n",
       "148652  Not Provided  Not Provided  Not Provided       0.00              0.00   \n",
       "148653          0.00       -618.13          0.00    -618.13           -618.13   \n",
       "\n",
       "        Year  Notes         Agency Status  \n",
       "0       2011    NaN  San Francisco    NaN  \n",
       "1       2011    NaN  San Francisco    NaN  \n",
       "2       2011    NaN  San Francisco    NaN  \n",
       "3       2011    NaN  San Francisco    NaN  \n",
       "4       2011    NaN  San Francisco    NaN  \n",
       "...      ...    ...            ...    ...  \n",
       "148649  2014    NaN  San Francisco     PT  \n",
       "148650  2014    NaN  San Francisco    NaN  \n",
       "148651  2014    NaN  San Francisco    NaN  \n",
       "148652  2014    NaN  San Francisco    NaN  \n",
       "148653  2014    NaN  San Francisco     PT  \n",
       "\n",
       "[148654 rows x 13 columns]>"
      ]
     },
     "execution_count": 38,
     "metadata": {},
     "output_type": "execute_result"
    }
   ],
   "source": [
    "# using info shows there are 148,654 entries\n",
    "df.info"
   ]
  },
  {
   "cell_type": "code",
   "execution_count": 39,
   "id": "16b9f842",
   "metadata": {
    "ExecuteTime": {
     "end_time": "2025-01-29T23:47:19.618052Z",
     "start_time": "2025-01-29T23:47:19.614550Z"
    }
   },
   "outputs": [
    {
     "data": {
      "text/plain": [
       "(148654, 13)"
      ]
     },
     "execution_count": 39,
     "metadata": {},
     "output_type": "execute_result"
    }
   ],
   "source": [
    "# shape is an alternative to show the number of rows/columns without the additional detail that info provides.\n",
    "df.shape"
   ]
  },
  {
   "cell_type": "markdown",
   "id": "44d588a4",
   "metadata": {},
   "source": [
    "Q5. What is the average BasePay? Note: You may need to find out the code that skips the string values. Do not manually delete those string data from the csv file."
   ]
  },
  {
   "cell_type": "code",
   "execution_count": 40,
   "id": "abe274cf",
   "metadata": {
    "ExecuteTime": {
     "end_time": "2025-01-29T23:47:19.733340Z",
     "start_time": "2025-01-29T23:47:19.704789Z"
    }
   },
   "outputs": [
    {
     "data": {
      "text/plain": [
       "np.float64(66325.4488404877)"
      ]
     },
     "execution_count": 40,
     "metadata": {},
     "output_type": "execute_result"
    }
   ],
   "source": [
    "# to_numeric to ensure values are read as numbers in the base pay column and using errors=coerce to ignore NAs\n",
    "df['BasePay']=pd.to_numeric(df['BasePay'], errors='coerce')\n",
    "df['BasePay'].mean()"
   ]
  },
  {
   "cell_type": "markdown",
   "id": "61fc0d77",
   "metadata": {},
   "source": [
    "Q6. What is the highest amount of OvertimePay in the dataset?"
   ]
  },
  {
   "cell_type": "code",
   "execution_count": 41,
   "id": "cafd6ea1",
   "metadata": {
    "ExecuteTime": {
     "end_time": "2025-01-29T23:47:19.769169Z",
     "start_time": "2025-01-29T23:47:19.743637Z"
    }
   },
   "outputs": [
    {
     "data": {
      "text/plain": [
       "np.float64(245131.88)"
      ]
     },
     "execution_count": 41,
     "metadata": {},
     "output_type": "execute_result"
    }
   ],
   "source": [
    "# to_numeric to ensure values are read as numbers in the base pay column and using errors=coerce to ignore NAs\n",
    "df['OvertimePay'] = pd.to_numeric(df['OvertimePay'], errors='coerce')\n",
    "df['OvertimePay'].max()"
   ]
  },
  {
   "cell_type": "markdown",
   "id": "7e2af387",
   "metadata": {},
   "source": [
    "Q7.What is the job title of JOSEPH DRISCOLL? Note: Use all caps, otherwise you may get an answer that doesn't match up (There might be also a lowercase Joseph Driscoll)."
   ]
  },
  {
   "cell_type": "code",
   "execution_count": 42,
   "id": "ed241b11",
   "metadata": {
    "ExecuteTime": {
     "end_time": "2025-01-29T23:47:19.789235Z",
     "start_time": "2025-01-29T23:47:19.779718Z"
    }
   },
   "outputs": [
    {
     "name": "stdout",
     "output_type": "stream",
     "text": [
      "JOSEPH DRISCOLL's job title is: CAPTAIN, FIRE SUPPRESSION\n"
     ]
    }
   ],
   "source": [
    "# used name in all caps to search employee name colum and find the corresponding job title, included error handling in case name was not found\n",
    "name = 'JOSEPH DRISCOLL'\n",
    "job_title = df[df['EmployeeName'] == name]['JobTitle'].values\n",
    "\n",
    "if len(job_title) > 0:\n",
    "    print(f\"{name}'s job title is: {job_title[0]}\")\n",
    "else:\n",
    "    print(f\"Employee {name} not found.\")"
   ]
  },
  {
   "cell_type": "markdown",
   "id": "51538a99",
   "metadata": {},
   "source": [
    "Q8. How much does JOSEPH DRISCOLL make (total pay benefits)?"
   ]
  },
  {
   "cell_type": "code",
   "execution_count": 43,
   "id": "9d0c0b92",
   "metadata": {
    "ExecuteTime": {
     "end_time": "2025-01-29T23:47:19.827163Z",
     "start_time": "2025-01-29T23:47:19.817910Z"
    }
   },
   "outputs": [
    {
     "name": "stdout",
     "output_type": "stream",
     "text": [
      "JOSEPH DRISCOLL's TotalPayBenefits is: 270324.91\n"
     ]
    }
   ],
   "source": [
    "# used name in all caps to search employee name colum and find the corresponding TotalPayBenefits, included error handling in case name was not found\n",
    "total_pay_benefits = df[df['EmployeeName'] == name]['TotalPayBenefits'].values\n",
    "\n",
    "\n",
    "if len(total_pay_benefits) > 0:\n",
    "    print(f\"{name}'s TotalPayBenefits is: {total_pay_benefits[0]}\")\n",
    "else:\n",
    "    print(f\"Employee {name} not found.\")"
   ]
  },
  {
   "cell_type": "markdown",
   "id": "5c3acc6b",
   "metadata": {},
   "source": [
    "Q9. What is the name of highest paid person (total pay benefits)? Suggested solution: sort_values()"
   ]
  },
  {
   "cell_type": "code",
   "execution_count": 44,
   "id": "1ec05319",
   "metadata": {
    "ExecuteTime": {
     "end_time": "2025-01-29T23:47:19.852002Z",
     "start_time": "2025-01-29T23:47:19.830354Z"
    }
   },
   "outputs": [
    {
     "name": "stdout",
     "output_type": "stream",
     "text": [
      "The highest paid person is: NATHANIEL FORD with a TotalPayBenefits of: 567595.43\n"
     ]
    }
   ],
   "source": [
    "# sorted the dataframe descending by TotalPayBenefits to locate the highest paid person\n",
    "df_sorted = df.sort_values(by='TotalPayBenefits', ascending=False)\n",
    "\n",
    "\n",
    "highest_paid_person = df_sorted.iloc[0]['EmployeeName']\n",
    "highest_paid_amount = df_sorted.iloc[0]['TotalPayBenefits']\n",
    "\n",
    "print(f\"The highest paid person is: {highest_paid_person} with a TotalPayBenefits of: {highest_paid_amount}\")"
   ]
  },
  {
   "cell_type": "markdown",
   "id": "d63e59ab",
   "metadata": {},
   "source": [
    "Q10. What is the name of the lowest paid person (total pay benefits)? Do you notice something strange about how much he or she is paid?"
   ]
  },
  {
   "cell_type": "code",
   "execution_count": 45,
   "id": "443ab478",
   "metadata": {
    "ExecuteTime": {
     "end_time": "2025-01-29T23:47:19.881549Z",
     "start_time": "2025-01-29T23:47:19.861827Z"
    }
   },
   "outputs": [
    {
     "name": "stdout",
     "output_type": "stream",
     "text": [
      "The lowest paid person is: Joe Lopez with a TotalPayBenefits of: -618.13\n"
     ]
    }
   ],
   "source": [
    "# sorted the dataframe ascending by TotalPayBenefits to locate the lowest paid person\n",
    "# we noticed that they have a negative amount in TotalPayBenefits. \n",
    "df_sorted = df.sort_values(by='TotalPayBenefits', ascending=True)\n",
    "\n",
    "lowest_paid_person = df_sorted.iloc[0]['EmployeeName']\n",
    "lowest_paid_amount = df_sorted.iloc[0]['TotalPayBenefits']\n",
    "\n",
    "print(f\"The lowest paid person is: {lowest_paid_person} with a TotalPayBenefits of: {lowest_paid_amount}\")"
   ]
  },
  {
   "cell_type": "markdown",
   "id": "5ceaf674",
   "metadata": {},
   "source": [
    "Q11. What was the average (mean) TotalPay of all employees per year? (2011-2014)?"
   ]
  },
  {
   "cell_type": "code",
   "execution_count": 46,
   "id": "9fafffed",
   "metadata": {
    "ExecuteTime": {
     "end_time": "2025-01-29T23:47:19.918388Z",
     "start_time": "2025-01-29T23:47:19.891830Z"
    }
   },
   "outputs": [
    {
     "name": "stdout",
     "output_type": "stream",
     "text": [
      "Year\n",
      "2011    71744.103871\n",
      "2012    74113.262265\n",
      "2013    77611.443142\n",
      "2014    75463.918140\n",
      "Name: TotalPay, dtype: float64\n"
     ]
    }
   ],
   "source": [
    "# filtered the dataframe to only show the requested years and then grouped by year and used mean to get average\n",
    "df_filtered = df[df['Year'].between(2011, 2014)]\n",
    "\n",
    "average_totalpay_per_year = df_filtered.groupby('Year')['TotalPay'].mean()\n",
    "\n",
    "print(average_totalpay_per_year)"
   ]
  },
  {
   "cell_type": "markdown",
   "id": "514c9854",
   "metadata": {},
   "source": [
    "Q12. How many unique job titles are there?"
   ]
  },
  {
   "cell_type": "code",
   "execution_count": 47,
   "id": "c3ae04f1",
   "metadata": {
    "ExecuteTime": {
     "end_time": "2025-01-29T23:47:19.939989Z",
     "start_time": "2025-01-29T23:47:19.929440Z"
    }
   },
   "outputs": [
    {
     "name": "stdout",
     "output_type": "stream",
     "text": [
      "There are 2159 unique job titles.\n"
     ]
    }
   ],
   "source": [
    "# used .nunique to fined unique entries on the JobTitle column\n",
    "unique_job_titles = df['JobTitle'].nunique()\n",
    "\n",
    "print(f\"There are {unique_job_titles} unique job titles.\")"
   ]
  },
  {
   "cell_type": "markdown",
   "id": "2d467532",
   "metadata": {},
   "source": [
    "Q13. What are the top 5 most common jobs?"
   ]
  },
  {
   "cell_type": "code",
   "execution_count": 48,
   "id": "8f4ff768",
   "metadata": {
    "ExecuteTime": {
     "end_time": "2025-01-29T23:47:19.959167Z",
     "start_time": "2025-01-29T23:47:19.951799Z"
    }
   },
   "outputs": [
    {
     "name": "stdout",
     "output_type": "stream",
     "text": [
      "Top 5 most common job titles:\n",
      "JobTitle\n",
      "Transit Operator                7036\n",
      "Special Nurse                   4389\n",
      "Registered Nurse                3736\n",
      "Public Svc Aide-Public Works    2518\n",
      "Police Officer 3                2421\n",
      "Name: count, dtype: int64\n"
     ]
    }
   ],
   "source": [
    "# value count and head on the JobTitle column to find the 5 most common job titles\n",
    "top_5_jobs = df['JobTitle'].value_counts().head(5)\n",
    "\n",
    "print(\"Top 5 most common job titles:\")\n",
    "print(top_5_jobs)"
   ]
  },
  {
   "cell_type": "markdown",
   "id": "8c636108",
   "metadata": {},
   "source": [
    "Q14. How many people have the word Chief in their job title?"
   ]
  },
  {
   "cell_type": "code",
   "execution_count": 49,
   "id": "1246b6e4",
   "metadata": {
    "ExecuteTime": {
     "end_time": "2025-01-29T23:47:20.018059Z",
     "start_time": "2025-01-29T23:47:19.969753Z"
    }
   },
   "outputs": [
    {
     "name": "stdout",
     "output_type": "stream",
     "text": [
      "Number of people with 'Chief' in their job title: 627\n"
     ]
    }
   ],
   "source": [
    "# used str.contains on the JobTitle column to find the number of people with Chief in their title\n",
    "chief_count = df[df['JobTitle'].str.contains('Chief', case=False, na=False)].shape[0]\n",
    "\n",
    "print(f\"Number of people with 'Chief' in their job title: {chief_count}\")"
   ]
  },
  {
   "cell_type": "markdown",
   "id": "9516c2c9",
   "metadata": {},
   "source": [
    "Q15. Is there a correlation between length of the Job Title string and Salary (TotalPayBenefits)? Write down your answer as a comment after coding."
   ]
  },
  {
   "cell_type": "code",
   "execution_count": 50,
   "id": "80d6beaa",
   "metadata": {
    "ExecuteTime": {
     "end_time": "2025-01-29T23:47:20.117237Z",
     "start_time": "2025-01-29T23:47:20.091867Z"
    }
   },
   "outputs": [
    {
     "name": "stdout",
     "output_type": "stream",
     "text": [
      "Correlation between Job Title length and Total Pay Benefits: -0.03687844593260671\n"
     ]
    }
   ],
   "source": [
    "df['JobTitleLength'] = df['JobTitle'].str.len()\n",
    "\n",
    "correlation = df['JobTitleLength'].corr(df['TotalPayBenefits'])\n",
    "\n",
    "print(f\"Correlation between Job Title length and Total Pay Benefits: {correlation}\")"
   ]
  },
  {
   "cell_type": "markdown",
   "id": "6ce60504",
   "metadata": {},
   "source": [
    "### With a correlation score close to zero, the correlation between Job Title length and Total Pay Benefits is not significant."
   ]
  }
 ],
 "metadata": {
  "kernelspec": {
   "display_name": "Python 3 (ipykernel)",
   "language": "python",
   "name": "python3"
  },
  "language_info": {
   "codemirror_mode": {
    "name": "ipython",
    "version": 3
   },
   "file_extension": ".py",
   "mimetype": "text/x-python",
   "name": "python",
   "nbconvert_exporter": "python",
   "pygments_lexer": "ipython3",
   "version": "3.11.4"
  }
 },
 "nbformat": 4,
 "nbformat_minor": 5
}
