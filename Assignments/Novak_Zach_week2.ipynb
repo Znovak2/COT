{
 "cells": [
  {
   "cell_type": "markdown",
   "metadata": {},
   "source": [
    "# Numpy Assignment\n",
    "*Name:* Zach Novak\n",
    "\n",
    "*PID:* za659148\n",
    "\n",
    "*Date:* 1/26/2025\n",
    "\n",
    "*Summary:* This Notebook first constructs and compares the compuation time of a simple operation (division) between two different sized arrays: one using Numpy and one using For Loops. The idea behind this is Numpy can broadcast operations across two different sized arrays. This is convinient right away, but the code below proves numpy is computationally faster than standard Python diction like For loops. Part Two shows the intricacies of converting Python dictionaries to NumPy arrays. For added complexity and data clarity, a structured NumPy array is created.\n"
   ]
  },
  {
   "cell_type": "markdown",
   "metadata": {},
   "source": [
    "# Part One\n",
    "\n",
    "In this exercise, try to use for loops to replicate the result of the following broadcasting operations.\n",
    "\n",
    "Try to replicate this simple example using for loops and compare your results with the broadcasting operation below."
   ]
  },
  {
   "cell_type": "code",
   "execution_count": null,
   "metadata": {},
   "outputs": [
    {
     "name": "stdout",
     "output_type": "stream",
     "text": [
      "X values are: \n",
      " [[-1.0856306   0.99734545  0.2829785  -1.50629471]\n",
      " [-0.57860025  1.65143654 -2.42667924 -0.42891263]\n",
      " [ 1.26593626 -0.8667404  -0.67888615 -0.09470897]\n",
      " [ 1.49138963 -0.638902   -0.44398196 -0.43435128]]\n",
      "\n",
      "Y values are: \n",
      " [2.20593008 2.18678609 1.0040539  0.3861864 ]\n",
      "\n",
      "A equals: \n",
      " [[-0.49214189  0.45607819  0.28183596 -3.90043439]\n",
      " [-0.26229311  0.75518888 -2.41688145 -1.11063629]\n",
      " [ 0.57387869 -0.39635354 -0.67614513 -0.2452416 ]\n",
      " [ 0.676082   -0.29216483 -0.44218937 -1.12471925]]\n"
     ]
    }
   ],
   "source": [
    "# import modules\n",
    "import numpy as np\n",
    "import timeit\n",
    "\n",
    "# create a 4x4 array of random numbers\n",
    "np.random.seed(123)\n",
    "x = np.random.randn(4, 4)\n",
    "y = np.random.randn(4)\n",
    "\n",
    "# print values\n",
    "print(\"X values are: \\n\", x)\n",
    "print(\"\\nY values are: \\n\", y)\n",
    "print(\"\\nA equals: \\n\", x / y)"
   ]
  },
  {
   "cell_type": "markdown",
   "metadata": {},
   "source": [
    "Now that the array is known, it can be replicated with For loops."
   ]
  },
  {
   "cell_type": "code",
   "execution_count": 2,
   "metadata": {},
   "outputs": [
    {
     "name": "stdout",
     "output_type": "stream",
     "text": [
      "[-0.49214189055348484, 0.45607819372950187, 0.28183596518075377, -3.900434375731512]\n",
      "[-0.2622931049564364, 0.7551888808658006, -2.4168814443129, -1.110636288590173]\n",
      "[0.5738786879410067, -0.3963535363442887, -0.6761451252766411, -0.24524159835768428]\n",
      "[0.6760820043761315, -0.2921648362963567, -0.442189368518961, -1.1247192547433054]\n"
     ]
    },
    {
     "data": {
      "text/plain": [
       "[[-0.49214189055348484,\n",
       "  0.45607819372950187,\n",
       "  0.28183596518075377,\n",
       "  -3.900434375731512],\n",
       " [-0.2622931049564364,\n",
       "  0.7551888808658006,\n",
       "  -2.4168814443129,\n",
       "  -1.110636288590173],\n",
       " [0.5738786879410067,\n",
       "  -0.3963535363442887,\n",
       "  -0.6761451252766411,\n",
       "  -0.24524159835768428],\n",
       " [0.6760820043761315,\n",
       "  -0.2921648362963567,\n",
       "  -0.442189368518961,\n",
       "  -1.1247192547433054]]"
      ]
     },
     "execution_count": 2,
     "metadata": {},
     "output_type": "execute_result"
    }
   ],
   "source": [
    "# hand craft the arrays from the numpy random seed\n",
    "multiarray = [[-1.0856306, 0.99734545, 0.2829785, -1.50629471], \n",
    "        [-0.57860025, 1.65143654, -2.42667924, -0.42891263], \n",
    "        [1.26593626, -0.8667404, -0.67888615, -0.09470897], \n",
    "        [1.49138963, -0.638902, -0.44398196, -0.43435128]]\n",
    "\n",
    "singlearray = [2.20593008, 2.18678609, 1.0040539, 0.3861864]\n",
    "\n",
    "# define a function to compute A = X / Y using for loops\n",
    "def forloop_compute(multiarray, singlearray):\n",
    "    output = []  # initialize an empty list for the output\n",
    "    for i in range(len(multiarray)):\n",
    "        row = []  # create a new row for the single values\n",
    "        for j in range(len(multiarray[i])):\n",
    "            row.append(multiarray[i][j] / singlearray[j])  # compute the value and append it to the row\n",
    "        output.append(row)  # append the completed row of single values to the output\n",
    "        print(row)\n",
    "    return output  # return the A array\n",
    "\n",
    "forloop_compute(multiarray, singlearray)"
   ]
  },
  {
   "cell_type": "markdown",
   "metadata": {},
   "source": [
    "Above is the For Loop array. Below, we will compare the compuational times between the two methods."
   ]
  },
  {
   "cell_type": "code",
   "execution_count": 3,
   "metadata": {},
   "outputs": [
    {
     "name": "stdout",
     "output_type": "stream",
     "text": [
      "[-0.49214189055348484, 0.45607819372950187, 0.28183596518075377, -3.900434375731512]\n",
      "[-0.2622931049564364, 0.7551888808658006, -2.4168814443129, -1.110636288590173]\n",
      "[0.5738786879410067, -0.3963535363442887, -0.6761451252766411, -0.24524159835768428]\n",
      "[0.6760820043761315, -0.2921648362963567, -0.442189368518961, -1.1247192547433054]\n",
      "For Loop Execution time: 0.00021239998750388622 seconds\n",
      "\n",
      "[[-0.49214189  0.45607819  0.28183596 -3.90043439]\n",
      " [-0.26229311  0.75518888 -2.41688145 -1.11063629]\n",
      " [ 0.57387869 -0.39635354 -0.67614513 -0.2452416 ]\n",
      " [ 0.676082   -0.29216483 -0.44218937 -1.12471925]]\n",
      "Numpy Execution time: 0.00021000008564442396 seconds\n",
      "\n",
      "\n",
      "Numpy computation is >>> 1.01 <<< times faster than For Loop computation.\n"
     ]
    }
   ],
   "source": [
    "# wrapper function to standardize the args and fit to the timeit function\n",
    "def wrapper():\n",
    "    forloop_compute(multiarray, singlearray)\n",
    "\n",
    "# compute the execution time of the for loop\n",
    "forloop_execution_time = timeit.timeit(wrapper, number=1)\n",
    "print(f\"For Loop Execution time: {forloop_execution_time} seconds\\n\")\n",
    "\n",
    "\n",
    "# define a function to compute A = X / Y using numpy\n",
    "def numpy_compute():\n",
    "    A = x / y\n",
    "    print(A)\n",
    "\n",
    "# compute the execution time of the numpy computation\n",
    "numpy_execution_time = timeit.timeit(numpy_compute, number=1)\n",
    "print(f\"Numpy Execution time: {numpy_execution_time} seconds\")\n",
    "\n",
    "# compare the execution times\n",
    "speed_difference = forloop_execution_time / numpy_execution_time\n",
    "print(f\"\\n\\nNumpy computation is >>> {speed_difference.__round__(2)} <<< times faster than For Loop computation.\")"
   ]
  },
  {
   "cell_type": "markdown",
   "metadata": {},
   "source": [
    "As you can see, most of the time the numpy computation will outperform the For loops based on time, not considering the convieniency it brings as well. If the above computation does not show NumPy as faster, it is an exception and a new test should be ran.  "
   ]
  },
  {
   "cell_type": "markdown",
   "metadata": {},
   "source": [
    "# Part Two\n",
    "Please convert a python dictionary into a NumPy array using the NumPy library. You can use any dictionary example you want."
   ]
  },
  {
   "cell_type": "code",
   "execution_count": 4,
   "metadata": {},
   "outputs": [],
   "source": [
    "# create a dictionary of stock prices and quantities to simulate a portfolio\n",
    "portfolio_dictionary = {\n",
    "    \"ANET\": {\"price\": 130.36, \"quantity\": 113.8952164},\n",
    "    \"AVGO\": {\"price\": 245.36, \"quantity\": 60.637910821},\n",
    "    \"CIEN\": {\"price\": 99.16, \"quantity\": 50.818172578},\n",
    "    \"GLW\": {\"price\": 54.05, \"quantity\": 92.472720547},\n",
    "    \"MSFT\": {\"price\": 445.38, \"quantity\": 22.47245111},\n",
    "    \"NVDA\": {\"price\": 145.13, \"quantity\": 136.137771424},\n",
    "    \"ORCL\": {\"price\": 184.9, \"quantity\": 54.185857491},\n",
    "    \"TSM\": {\"price\": 222.64, \"quantity\": 89.559392418},\n",
    "}\n"
   ]
  },
  {
   "cell_type": "markdown",
   "metadata": {},
   "source": [
    "Extract the data from the dictionary. This is crucial to remove the key:value formatting which is not tabular and incompatible with NumPy."
   ]
  },
  {
   "cell_type": "code",
   "execution_count": 5,
   "metadata": {},
   "outputs": [
    {
     "name": "stdout",
     "output_type": "stream",
     "text": [
      "\n",
      "\n",
      "Portfolio list of lists: \n",
      " [['ANET', 130.36, 113.8952164], ['AVGO', 245.36, 60.637910821], ['CIEN', 99.16, 50.818172578], ['GLW', 54.05, 92.472720547], ['MSFT', 445.38, 22.47245111], ['NVDA', 145.13, 136.137771424], ['ORCL', 184.9, 54.185857491], ['TSM', 222.64, 89.559392418]]\n"
     ]
    }
   ],
   "source": [
    "# create a list of lists from the dictionary\n",
    "portfolio_list = [\n",
    "    [ticker, details[\"price\"], details[\"quantity\"]]\n",
    "    for ticker, details in portfolio_dictionary.items()\n",
    "]\n",
    "\n",
    "print(\"\\n\\nPortfolio list of lists: \\n\", portfolio_list)"
   ]
  },
  {
   "cell_type": "markdown",
   "metadata": {},
   "source": [
    "Now the data is compatible to apply the .array() method from the NumPy library."
   ]
  },
  {
   "cell_type": "code",
   "execution_count": 6,
   "metadata": {},
   "outputs": [
    {
     "name": "stdout",
     "output_type": "stream",
     "text": [
      "\n",
      "\n",
      "Portfolio Array: \n",
      " [['ANET' '130.36' '113.8952164']\n",
      " ['AVGO' '245.36' '60.637910821']\n",
      " ['CIEN' '99.16' '50.818172578']\n",
      " ['GLW' '54.05' '92.472720547']\n",
      " ['MSFT' '445.38' '22.47245111']\n",
      " ['NVDA' '145.13' '136.137771424']\n",
      " ['ORCL' '184.9' '54.185857491']\n",
      " ['TSM' '222.64' '89.559392418']]\n"
     ]
    }
   ],
   "source": [
    "# create a numpy array from the list of lists\n",
    "portfolio_array = np.array(portfolio_list)\n",
    "print(\"\\n\\nPortfolio Array: \\n\", portfolio_array)"
   ]
  },
  {
   "cell_type": "markdown",
   "metadata": {},
   "source": [
    "In order to allow a more accessible array, and in my opinion more accurate, data types will be assigned to structure the array. "
   ]
  },
  {
   "cell_type": "code",
   "execution_count": 7,
   "metadata": {},
   "outputs": [
    {
     "name": "stdout",
     "output_type": "stream",
     "text": [
      "\n",
      "\n",
      "Portfolio Array: \n",
      " [('ANET', 130.36, 113.8952164 ) ('AVGO', 245.36,  60.63791082)\n",
      " ('CIEN',  99.16,  50.81817258) ('GLW',  54.05,  92.47272055)\n",
      " ('MSFT', 445.38,  22.47245111) ('NVDA', 145.13, 136.13777142)\n",
      " ('ORCL', 184.9 ,  54.18585749) ('TSM', 222.64,  89.55939242)]\n"
     ]
    }
   ],
   "source": [
    "# define the structured data type\n",
    "dtype = [(\"Ticker\", \"U10\"), (\"Price\", \"f8\"), (\"Quantity\", \"f8\")]\n",
    "\n",
    "# ensure portfolio_list is a list of tuples\n",
    "portfolio_list_tuple = [\n",
    "    (ticker, details[\"price\"], details[\"quantity\"])\n",
    "    for ticker, details in portfolio_dictionary.items()\n",
    "]\n",
    "\n",
    "# create the structured numpy array\n",
    "portfolio_array = np.array(portfolio_list_tuple, dtype=dtype)\n",
    "\n",
    "# print the structured array\n",
    "print(\"\\n\\nPortfolio Array: \\n\", portfolio_array)"
   ]
  },
  {
   "cell_type": "markdown",
   "metadata": {},
   "source": [
    "An example to work with the library:"
   ]
  },
  {
   "cell_type": "code",
   "execution_count": 8,
   "metadata": {},
   "outputs": [
    {
     "name": "stdout",
     "output_type": "stream",
     "text": [
      "Prices: [130.36 245.36  99.16  54.05 445.38 145.13 184.9  222.64]\n",
      "\n",
      "Quantities: [113.8952164   60.63791082  50.81817258  92.47272055  22.47245111\n",
      " 136.13777142  54.18585749  89.55939242]\n",
      "\n",
      "\n",
      "Total Portfolio Value: \n",
      " 99487.7\n",
      "\n",
      "Percent Allocations: \n",
      " [14.92383492 14.95473059  5.06507829  5.02388782 10.06031909 19.85941415\n",
      " 10.07055631 20.04217882]\n",
      "\n",
      "Average Percent Allocation: \n",
      " 12.5\n"
     ]
    }
   ],
   "source": [
    "# access the price and quantity features directly\n",
    "prices = portfolio_array[\"Price\"]\n",
    "quantities = portfolio_array[\"Quantity\"]\n",
    "\n",
    "# print the features\n",
    "print(\"Prices:\", prices)\n",
    "print(\"\\nQuantities:\", quantities)\n",
    "\n",
    "# calculate total values\n",
    "total_values = prices * quantities\n",
    "\n",
    "# calculate the total value of the portfolio\n",
    "portfolio_total_value = total_values.sum()\n",
    "print(\"\\n\\nTotal Portfolio Value: \\n\", portfolio_total_value.round(2))\n",
    "\n",
    "# calculate the percent allocations of each position according to the portfolio total value\n",
    "percent_allocation = (total_values / portfolio_total_value) * 100\n",
    "print(\"\\nPercent Allocations: \\n\", percent_allocation)\n",
    "\n",
    "# calculate the average percent allocation of each position.\n",
    "average_percent_allocation = percent_allocation.mean()\n",
    "print(\"\\nAverage Percent Allocation: \\n\", average_percent_allocation)"
   ]
  },
  {
   "cell_type": "markdown",
   "metadata": {},
   "source": [
    "The above example showed the computational and structural ease which NumPy excels in."
   ]
  }
 ],
 "metadata": {
  "kernelspec": {
   "display_name": "Python 3",
   "language": "python",
   "name": "python3"
  },
  "language_info": {
   "codemirror_mode": {
    "name": "ipython",
    "version": 3
   },
   "file_extension": ".py",
   "mimetype": "text/x-python",
   "name": "python",
   "nbconvert_exporter": "python",
   "pygments_lexer": "ipython3",
   "version": "3.12.0"
  }
 },
 "nbformat": 4,
 "nbformat_minor": 2
}
